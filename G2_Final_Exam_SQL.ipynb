{
  "cells": [
    {
      "cell_type": "markdown",
      "metadata": {
        "id": "O3uhQEw4Jqnt"
      },
      "source": [
        "# Gather Section (20 Questions, 40 Marks)\n",
        "\n",
        "You should have access to a file called TMDB.db. The first step to answering this set of questions will be to connect to this db file to access the data.\n",
        "\n",
        "![SQL Architectures](https://raw.githubusercontent.com/Explore-AI/Public-Data/master/image/TMDB_ERD.JPG)\n",
        "\n",
        "Before we start we need to load our SQL magic commands (we only need do this once per notebook):"
      ]
    },
    {
      "cell_type": "code",
      "execution_count": 1,
      "metadata": {
        "id": "tYyzGpQrJqnv",
        "colab": {
          "base_uri": "https://localhost:8080/"
        },
        "outputId": "349fc3df-1ee9-4fd0-a98a-c46421dd21d3"
      },
      "outputs": [
        {
          "output_type": "stream",
          "name": "stdout",
          "text": [
            "Requirement already satisfied: ipython-sql in /usr/local/lib/python3.10/dist-packages (0.5.0)\n",
            "Requirement already satisfied: prettytable in /usr/local/lib/python3.10/dist-packages (from ipython-sql) (3.11.0)\n",
            "Requirement already satisfied: ipython in /usr/local/lib/python3.10/dist-packages (from ipython-sql) (7.34.0)\n",
            "Requirement already satisfied: sqlalchemy>=2.0 in /usr/local/lib/python3.10/dist-packages (from ipython-sql) (2.0.35)\n",
            "Requirement already satisfied: sqlparse in /usr/local/lib/python3.10/dist-packages (from ipython-sql) (0.5.1)\n",
            "Requirement already satisfied: six in /usr/local/lib/python3.10/dist-packages (from ipython-sql) (1.16.0)\n",
            "Requirement already satisfied: ipython-genutils in /usr/local/lib/python3.10/dist-packages (from ipython-sql) (0.2.0)\n",
            "Requirement already satisfied: typing-extensions>=4.6.0 in /usr/local/lib/python3.10/dist-packages (from sqlalchemy>=2.0->ipython-sql) (4.12.2)\n",
            "Requirement already satisfied: greenlet!=0.4.17 in /usr/local/lib/python3.10/dist-packages (from sqlalchemy>=2.0->ipython-sql) (3.1.1)\n",
            "Requirement already satisfied: setuptools>=18.5 in /usr/local/lib/python3.10/dist-packages (from ipython->ipython-sql) (71.0.4)\n",
            "Collecting jedi>=0.16 (from ipython->ipython-sql)\n",
            "  Using cached jedi-0.19.1-py2.py3-none-any.whl.metadata (22 kB)\n",
            "Requirement already satisfied: decorator in /usr/local/lib/python3.10/dist-packages (from ipython->ipython-sql) (4.4.2)\n",
            "Requirement already satisfied: pickleshare in /usr/local/lib/python3.10/dist-packages (from ipython->ipython-sql) (0.7.5)\n",
            "Requirement already satisfied: traitlets>=4.2 in /usr/local/lib/python3.10/dist-packages (from ipython->ipython-sql) (5.7.1)\n",
            "Requirement already satisfied: prompt-toolkit!=3.0.0,!=3.0.1,<3.1.0,>=2.0.0 in /usr/local/lib/python3.10/dist-packages (from ipython->ipython-sql) (3.0.48)\n",
            "Requirement already satisfied: pygments in /usr/local/lib/python3.10/dist-packages (from ipython->ipython-sql) (2.18.0)\n",
            "Requirement already satisfied: backcall in /usr/local/lib/python3.10/dist-packages (from ipython->ipython-sql) (0.2.0)\n",
            "Requirement already satisfied: matplotlib-inline in /usr/local/lib/python3.10/dist-packages (from ipython->ipython-sql) (0.1.7)\n",
            "Requirement already satisfied: pexpect>4.3 in /usr/local/lib/python3.10/dist-packages (from ipython->ipython-sql) (4.9.0)\n",
            "Requirement already satisfied: wcwidth in /usr/local/lib/python3.10/dist-packages (from prettytable->ipython-sql) (0.2.13)\n",
            "Requirement already satisfied: parso<0.9.0,>=0.8.3 in /usr/local/lib/python3.10/dist-packages (from jedi>=0.16->ipython->ipython-sql) (0.8.4)\n",
            "Requirement already satisfied: ptyprocess>=0.5 in /usr/local/lib/python3.10/dist-packages (from pexpect>4.3->ipython->ipython-sql) (0.7.0)\n",
            "Using cached jedi-0.19.1-py2.py3-none-any.whl (1.6 MB)\n",
            "Installing collected packages: jedi\n",
            "Successfully installed jedi-0.19.1\n",
            "Collecting pymysql\n",
            "  Downloading PyMySQL-1.1.1-py3-none-any.whl.metadata (4.4 kB)\n",
            "Downloading PyMySQL-1.1.1-py3-none-any.whl (44 kB)\n",
            "\u001b[2K   \u001b[90m━━━━━━━━━━━━━━━━━━━━━━━━━━━━━━━━━━━━━━━━\u001b[0m \u001b[32m45.0/45.0 kB\u001b[0m \u001b[31m2.5 MB/s\u001b[0m eta \u001b[36m0:00:00\u001b[0m\n",
            "\u001b[?25hInstalling collected packages: pymysql\n",
            "Successfully installed pymysql-1.1.1\n"
          ]
        }
      ],
      "source": [
        "!pip install ipython-sql\n",
        "!pip install pymysql\n",
        "%load_ext sql"
      ]
    },
    {
      "cell_type": "markdown",
      "metadata": {
        "id": "ok5TGOw3Jqnw"
      },
      "source": [
        "\n",
        "\n",
        "\n",
        "Based on that data, answer the following questions:\n",
        "\n",
        "\n",
        "### Question 1\n",
        "What is the code you can use to connect to the TMDB database that is saved in a Colab notebook?\n"
      ]
    },
    {
      "cell_type": "code",
      "execution_count": 2,
      "metadata": {
        "id": "bkHzM8QXJqnw"
      },
      "outputs": [],
      "source": [
        "%%sql\n",
        "sqlite:///TMDB.db"
      ]
    },
    {
      "cell_type": "markdown",
      "metadata": {
        "id": "JgRO7x1-Jqnx"
      },
      "source": [
        "### Question 2\n",
        "What is the primary key for the table “movies”?\n",
        "\n"
      ]
    },
    {
      "cell_type": "code",
      "source": [
        "%%sql\n",
        "PRAGMA table_info(movies);"
      ],
      "metadata": {
        "colab": {
          "base_uri": "https://localhost:8080/",
          "height": 397
        },
        "id": "bclz6r-oxPnF",
        "outputId": "f6e55810-ecf4-4376-9ebb-50219e6defbe"
      },
      "execution_count": null,
      "outputs": [
        {
          "output_type": "stream",
          "name": "stdout",
          "text": [
            " * sqlite:///TMDB.db\n",
            "Done.\n"
          ]
        },
        {
          "output_type": "execute_result",
          "data": {
            "text/plain": [
              "[(0, 'movie_id', 'INTEGER', 1, None, 1),\n",
              " (1, 'title', 'varchar(500)', 0, 'NULL', 0),\n",
              " (2, 'release_date', 'datetime(6)', 0, 'NULL', 0),\n",
              " (3, 'budget', 'INTEGER', 0, 'NULL', 0),\n",
              " (4, 'homepage', 'varchar(500)', 0, 'NULL', 0),\n",
              " (5, 'original_language', 'varchar(50)', 0, 'NULL', 0),\n",
              " (6, 'original_title', 'varchar(500)', 0, 'NULL', 0),\n",
              " (7, 'overview', 'varchar(5000)', 0, 'NULL', 0),\n",
              " (8, 'popularity', 'double', 0, 'NULL', 0),\n",
              " (9, 'revenue', 'double', 0, 'NULL', 0),\n",
              " (10, 'runtime', 'double', 0, 'NULL', 0),\n",
              " (11, 'release_status', 'varchar(50)', 0, 'NULL', 0),\n",
              " (12, 'tagline', 'varchar(500)', 0, 'NULL', 0),\n",
              " (13, 'vote_average', 'double', 0, 'NULL', 0),\n",
              " (14, 'vote_count', 'INTEGER', 0, 'NULL', 0)]"
            ],
            "text/html": [
              "<table>\n",
              "    <thead>\n",
              "        <tr>\n",
              "            <th>cid</th>\n",
              "            <th>name</th>\n",
              "            <th>type</th>\n",
              "            <th>notnull</th>\n",
              "            <th>dflt_value</th>\n",
              "            <th>pk</th>\n",
              "        </tr>\n",
              "    </thead>\n",
              "    <tbody>\n",
              "        <tr>\n",
              "            <td>0</td>\n",
              "            <td>movie_id</td>\n",
              "            <td>INTEGER</td>\n",
              "            <td>1</td>\n",
              "            <td>None</td>\n",
              "            <td>1</td>\n",
              "        </tr>\n",
              "        <tr>\n",
              "            <td>1</td>\n",
              "            <td>title</td>\n",
              "            <td>varchar(500)</td>\n",
              "            <td>0</td>\n",
              "            <td>NULL</td>\n",
              "            <td>0</td>\n",
              "        </tr>\n",
              "        <tr>\n",
              "            <td>2</td>\n",
              "            <td>release_date</td>\n",
              "            <td>datetime(6)</td>\n",
              "            <td>0</td>\n",
              "            <td>NULL</td>\n",
              "            <td>0</td>\n",
              "        </tr>\n",
              "        <tr>\n",
              "            <td>3</td>\n",
              "            <td>budget</td>\n",
              "            <td>INTEGER</td>\n",
              "            <td>0</td>\n",
              "            <td>NULL</td>\n",
              "            <td>0</td>\n",
              "        </tr>\n",
              "        <tr>\n",
              "            <td>4</td>\n",
              "            <td>homepage</td>\n",
              "            <td>varchar(500)</td>\n",
              "            <td>0</td>\n",
              "            <td>NULL</td>\n",
              "            <td>0</td>\n",
              "        </tr>\n",
              "        <tr>\n",
              "            <td>5</td>\n",
              "            <td>original_language</td>\n",
              "            <td>varchar(50)</td>\n",
              "            <td>0</td>\n",
              "            <td>NULL</td>\n",
              "            <td>0</td>\n",
              "        </tr>\n",
              "        <tr>\n",
              "            <td>6</td>\n",
              "            <td>original_title</td>\n",
              "            <td>varchar(500)</td>\n",
              "            <td>0</td>\n",
              "            <td>NULL</td>\n",
              "            <td>0</td>\n",
              "        </tr>\n",
              "        <tr>\n",
              "            <td>7</td>\n",
              "            <td>overview</td>\n",
              "            <td>varchar(5000)</td>\n",
              "            <td>0</td>\n",
              "            <td>NULL</td>\n",
              "            <td>0</td>\n",
              "        </tr>\n",
              "        <tr>\n",
              "            <td>8</td>\n",
              "            <td>popularity</td>\n",
              "            <td>double</td>\n",
              "            <td>0</td>\n",
              "            <td>NULL</td>\n",
              "            <td>0</td>\n",
              "        </tr>\n",
              "        <tr>\n",
              "            <td>9</td>\n",
              "            <td>revenue</td>\n",
              "            <td>double</td>\n",
              "            <td>0</td>\n",
              "            <td>NULL</td>\n",
              "            <td>0</td>\n",
              "        </tr>\n",
              "        <tr>\n",
              "            <td>10</td>\n",
              "            <td>runtime</td>\n",
              "            <td>double</td>\n",
              "            <td>0</td>\n",
              "            <td>NULL</td>\n",
              "            <td>0</td>\n",
              "        </tr>\n",
              "        <tr>\n",
              "            <td>11</td>\n",
              "            <td>release_status</td>\n",
              "            <td>varchar(50)</td>\n",
              "            <td>0</td>\n",
              "            <td>NULL</td>\n",
              "            <td>0</td>\n",
              "        </tr>\n",
              "        <tr>\n",
              "            <td>12</td>\n",
              "            <td>tagline</td>\n",
              "            <td>varchar(500)</td>\n",
              "            <td>0</td>\n",
              "            <td>NULL</td>\n",
              "            <td>0</td>\n",
              "        </tr>\n",
              "        <tr>\n",
              "            <td>13</td>\n",
              "            <td>vote_average</td>\n",
              "            <td>double</td>\n",
              "            <td>0</td>\n",
              "            <td>NULL</td>\n",
              "            <td>0</td>\n",
              "        </tr>\n",
              "        <tr>\n",
              "            <td>14</td>\n",
              "            <td>vote_count</td>\n",
              "            <td>INTEGER</td>\n",
              "            <td>0</td>\n",
              "            <td>NULL</td>\n",
              "            <td>0</td>\n",
              "        </tr>\n",
              "    </tbody>\n",
              "</table>"
            ]
          },
          "metadata": {},
          "execution_count": 5
        }
      ]
    },
    {
      "cell_type": "markdown",
      "metadata": {
        "id": "KSkdaG_iJqnx"
      },
      "source": [
        "### Question 3\n",
        "How many foreign keys does the “languagemap” table have?\n",
        "\n"
      ]
    },
    {
      "cell_type": "code",
      "source": [
        "%%sql\n",
        "PRAGMA foreign_key_list(languagemap);"
      ],
      "metadata": {
        "colab": {
          "base_uri": "https://localhost:8080/",
          "height": 119
        },
        "id": "zgsKz22vxaWx",
        "outputId": "5b2c1303-9046-4e6b-d154-179c4e433566"
      },
      "execution_count": null,
      "outputs": [
        {
          "output_type": "stream",
          "name": "stdout",
          "text": [
            " * sqlite:///TMDB.db\n",
            "Done.\n"
          ]
        },
        {
          "output_type": "execute_result",
          "data": {
            "text/plain": [
              "[(0, 0, 'movies', 'movie_id', 'movie_id', 'NO ACTION', 'NO ACTION', 'NONE'),\n",
              " (1, 0, 'languages', 'iso_639_1', 'iso_639_1', 'NO ACTION', 'NO ACTION', 'NONE')]"
            ],
            "text/html": [
              "<table>\n",
              "    <thead>\n",
              "        <tr>\n",
              "            <th>id</th>\n",
              "            <th>seq</th>\n",
              "            <th>table</th>\n",
              "            <th>from</th>\n",
              "            <th>to</th>\n",
              "            <th>on_update</th>\n",
              "            <th>on_delete</th>\n",
              "            <th>match</th>\n",
              "        </tr>\n",
              "    </thead>\n",
              "    <tbody>\n",
              "        <tr>\n",
              "            <td>0</td>\n",
              "            <td>0</td>\n",
              "            <td>movies</td>\n",
              "            <td>movie_id</td>\n",
              "            <td>movie_id</td>\n",
              "            <td>NO ACTION</td>\n",
              "            <td>NO ACTION</td>\n",
              "            <td>NONE</td>\n",
              "        </tr>\n",
              "        <tr>\n",
              "            <td>1</td>\n",
              "            <td>0</td>\n",
              "            <td>languages</td>\n",
              "            <td>iso_639_1</td>\n",
              "            <td>iso_639_1</td>\n",
              "            <td>NO ACTION</td>\n",
              "            <td>NO ACTION</td>\n",
              "            <td>NONE</td>\n",
              "        </tr>\n",
              "    </tbody>\n",
              "</table>"
            ]
          },
          "metadata": {},
          "execution_count": 4
        }
      ]
    },
    {
      "cell_type": "markdown",
      "metadata": {
        "id": "eO7T-b9AJqnx"
      },
      "source": [
        "### Question 4\n",
        "What code would you use to set up a view of all movies that did not get released?\n"
      ]
    },
    {
      "cell_type": "code",
      "execution_count": null,
      "metadata": {
        "id": "8FTBNKnlJqny",
        "colab": {
          "base_uri": "https://localhost:8080/"
        },
        "outputId": "ad52227b-bf64-44a7-92c5-9e83ede56809"
      },
      "outputs": [
        {
          "output_type": "stream",
          "name": "stdout",
          "text": [
            " * sqlite:///TMDB.db\n",
            "Done.\n"
          ]
        },
        {
          "output_type": "execute_result",
          "data": {
            "text/plain": [
              "[]"
            ]
          },
          "metadata": {},
          "execution_count": 7
        }
      ],
      "source": [
        "%%sql\n",
        "CREATE VIEW unreleased_movies AS\n",
        "SELECT *\n",
        "FROM movies\n",
        "WHERE release_status != 'Released';"
      ]
    },
    {
      "cell_type": "markdown",
      "metadata": {
        "id": "GxuX_z8iJqny"
      },
      "source": [
        "### Question 5\n",
        "How would you select only the title, release date, and release status columns from the view you created in the previous question?\n"
      ]
    },
    {
      "cell_type": "code",
      "execution_count": null,
      "metadata": {
        "id": "7E0ZI_d9Jqnz",
        "colab": {
          "base_uri": "https://localhost:8080/",
          "height": 247
        },
        "outputId": "573024af-445e-468d-8839-dafdf9148010"
      },
      "outputs": [
        {
          "output_type": "stream",
          "name": "stdout",
          "text": [
            " * sqlite:///TMDB.db\n",
            "Done.\n"
          ]
        },
        {
          "output_type": "execute_result",
          "data": {
            "text/plain": [
              "[('Little Big Top', '2006-01-01 00:00:00.000000', 'Rumored'),\n",
              " ('The Helix... Loaded', '2005-01-01 00:00:00.000000', 'Rumored'),\n",
              " ('Higher Ground', '2011-08-26 00:00:00.000000', 'Post Production'),\n",
              " ('Crying with Laughter', '2009-06-01 00:00:00.000000', 'Rumored'),\n",
              " ('The Harvest (La Cosecha)', '2011-07-29 00:00:00.000000', 'Rumored'),\n",
              " ('The Naked Ape', '2006-09-16 00:00:00.000000', 'Rumored'),\n",
              " ('Brotherly Love', '2015-04-24 00:00:00.000000', 'Post Production'),\n",
              " (\"Dancin' It's On\", '2015-10-16 00:00:00.000000', 'Post Production')]"
            ],
            "text/html": [
              "<table>\n",
              "    <thead>\n",
              "        <tr>\n",
              "            <th>title</th>\n",
              "            <th>release_date</th>\n",
              "            <th>release_status</th>\n",
              "        </tr>\n",
              "    </thead>\n",
              "    <tbody>\n",
              "        <tr>\n",
              "            <td>Little Big Top</td>\n",
              "            <td>2006-01-01 00:00:00.000000</td>\n",
              "            <td>Rumored</td>\n",
              "        </tr>\n",
              "        <tr>\n",
              "            <td>The Helix... Loaded</td>\n",
              "            <td>2005-01-01 00:00:00.000000</td>\n",
              "            <td>Rumored</td>\n",
              "        </tr>\n",
              "        <tr>\n",
              "            <td>Higher Ground</td>\n",
              "            <td>2011-08-26 00:00:00.000000</td>\n",
              "            <td>Post Production</td>\n",
              "        </tr>\n",
              "        <tr>\n",
              "            <td>Crying with Laughter</td>\n",
              "            <td>2009-06-01 00:00:00.000000</td>\n",
              "            <td>Rumored</td>\n",
              "        </tr>\n",
              "        <tr>\n",
              "            <td>The Harvest (La Cosecha)</td>\n",
              "            <td>2011-07-29 00:00:00.000000</td>\n",
              "            <td>Rumored</td>\n",
              "        </tr>\n",
              "        <tr>\n",
              "            <td>The Naked Ape</td>\n",
              "            <td>2006-09-16 00:00:00.000000</td>\n",
              "            <td>Rumored</td>\n",
              "        </tr>\n",
              "        <tr>\n",
              "            <td>Brotherly Love</td>\n",
              "            <td>2015-04-24 00:00:00.000000</td>\n",
              "            <td>Post Production</td>\n",
              "        </tr>\n",
              "        <tr>\n",
              "            <td>Dancin&#x27; It&#x27;s On</td>\n",
              "            <td>2015-10-16 00:00:00.000000</td>\n",
              "            <td>Post Production</td>\n",
              "        </tr>\n",
              "    </tbody>\n",
              "</table>"
            ]
          },
          "metadata": {},
          "execution_count": 8
        }
      ],
      "source": [
        "%%sql\n",
        "SELECT title, release_date, release_status\n",
        "FROM unreleased_movies;"
      ]
    },
    {
      "cell_type": "markdown",
      "metadata": {
        "id": "WYqGtSSkJqnz"
      },
      "source": [
        "### Question 6\n",
        "How many movies are no longer using their original titles?\n",
        "\n"
      ]
    },
    {
      "cell_type": "code",
      "execution_count": null,
      "metadata": {
        "id": "4l4MbDo2Jqn0",
        "colab": {
          "base_uri": "https://localhost:8080/",
          "height": 97
        },
        "outputId": "f6afdbe6-cd78-47bd-e21f-c3f77066afa3"
      },
      "outputs": [
        {
          "output_type": "stream",
          "name": "stdout",
          "text": [
            " * sqlite:///TMDB.db\n",
            "Done.\n"
          ]
        },
        {
          "output_type": "execute_result",
          "data": {
            "text/plain": [
              "[(261,)]"
            ],
            "text/html": [
              "<table>\n",
              "    <thead>\n",
              "        <tr>\n",
              "            <th>count(*)</th>\n",
              "        </tr>\n",
              "    </thead>\n",
              "    <tbody>\n",
              "        <tr>\n",
              "            <td>261</td>\n",
              "        </tr>\n",
              "    </tbody>\n",
              "</table>"
            ]
          },
          "metadata": {},
          "execution_count": 10
        }
      ],
      "source": [
        "%%sql\n",
        "select count(*)\n",
        "from movies\n",
        "where original_title != title;"
      ]
    },
    {
      "cell_type": "markdown",
      "metadata": {
        "id": "_ZJuNLfPJqn0"
      },
      "source": [
        "### Question 7\n",
        "What is the most popular movie that was made after 01/01/2000 with a budget of more than $100 000 000? (Hint: Use the popularity field in the Movies table. Larger numbers are more popular.)\n"
      ]
    },
    {
      "cell_type": "code",
      "execution_count": null,
      "metadata": {
        "id": "AY2PN5HzJqn0",
        "colab": {
          "base_uri": "https://localhost:8080/",
          "height": 97
        },
        "outputId": "d95c3630-ff8a-4a6c-98ad-a3d752982461"
      },
      "outputs": [
        {
          "output_type": "stream",
          "name": "stdout",
          "text": [
            " * sqlite:///TMDB.db\n",
            "Done.\n"
          ]
        },
        {
          "output_type": "execute_result",
          "data": {
            "text/plain": [
              "[('Interstellar', 724.247784)]"
            ],
            "text/html": [
              "<table>\n",
              "    <thead>\n",
              "        <tr>\n",
              "            <th>title</th>\n",
              "            <th>popularity</th>\n",
              "        </tr>\n",
              "    </thead>\n",
              "    <tbody>\n",
              "        <tr>\n",
              "            <td>Interstellar</td>\n",
              "            <td>724.247784</td>\n",
              "        </tr>\n",
              "    </tbody>\n",
              "</table>"
            ]
          },
          "metadata": {},
          "execution_count": 11
        }
      ],
      "source": [
        "%%sql\n",
        "select title, popularity\n",
        "from movies\n",
        "where release_date > '2000-01-01' and budget > 100000000\n",
        "order by popularity desc\n",
        "limit 1;"
      ]
    },
    {
      "cell_type": "markdown",
      "metadata": {
        "id": "CfRuCZ68Jqn0"
      },
      "source": [
        "### Question 8\n",
        "How many movies are there that do not have English as their original language?\n",
        "\n"
      ]
    },
    {
      "cell_type": "code",
      "execution_count": null,
      "metadata": {
        "id": "xptzYlgmJqn1",
        "colab": {
          "base_uri": "https://localhost:8080/",
          "height": 97
        },
        "outputId": "00259c26-1103-4925-f717-6ca7023e5e65"
      },
      "outputs": [
        {
          "output_type": "stream",
          "name": "stdout",
          "text": [
            " * sqlite:///TMDB.db\n",
            "Done.\n"
          ]
        },
        {
          "output_type": "execute_result",
          "data": {
            "text/plain": [
              "[(298,)]"
            ],
            "text/html": [
              "<table>\n",
              "    <thead>\n",
              "        <tr>\n",
              "            <th>count(*)</th>\n",
              "        </tr>\n",
              "    </thead>\n",
              "    <tbody>\n",
              "        <tr>\n",
              "            <td>298</td>\n",
              "        </tr>\n",
              "    </tbody>\n",
              "</table>"
            ]
          },
          "metadata": {},
          "execution_count": 12
        }
      ],
      "source": [
        "%%sql\n",
        "select count(*)\n",
        "from movies\n",
        "where original_language != 'en';"
      ]
    },
    {
      "cell_type": "markdown",
      "metadata": {
        "id": "1z4656wQJqn3"
      },
      "source": [
        "### Question 9\n",
        "In how many movies did Tom Cruise portray the character Ethan Hunt?\n",
        "\n"
      ]
    },
    {
      "cell_type": "code",
      "execution_count": null,
      "metadata": {
        "id": "CiuwUD-NJqn3",
        "colab": {
          "base_uri": "https://localhost:8080/",
          "height": 97
        },
        "outputId": "df10fbf1-c779-4d9b-f256-dae3c9779555"
      },
      "outputs": [
        {
          "output_type": "stream",
          "name": "stdout",
          "text": [
            " * sqlite:///TMDB.db\n",
            "Done.\n"
          ]
        },
        {
          "output_type": "execute_result",
          "data": {
            "text/plain": [
              "[(5,)]"
            ],
            "text/html": [
              "<table>\n",
              "    <thead>\n",
              "        <tr>\n",
              "            <th>count(*)</th>\n",
              "        </tr>\n",
              "    </thead>\n",
              "    <tbody>\n",
              "        <tr>\n",
              "            <td>5</td>\n",
              "        </tr>\n",
              "    </tbody>\n",
              "</table>"
            ]
          },
          "metadata": {},
          "execution_count": 7
        }
      ],
      "source": [
        "%%sql\n",
        "select count(*)\n",
        "from Casts as c\n",
        "INNER JOIN Actors as a\n",
        "on c.actor_id = a.actor_id\n",
        "where a.actor_name = 'Tom Cruise' and c.characters = 'Ethan Hunt';"
      ]
    },
    {
      "cell_type": "markdown",
      "metadata": {
        "id": "cUsRwRKJJqn3"
      },
      "source": [
        "### Question 10\n",
        "How many times was the actress Cate Blanchett nominated for an Oscar?"
      ]
    },
    {
      "cell_type": "code",
      "execution_count": null,
      "metadata": {
        "id": "JV_kvB2nJqn3",
        "colab": {
          "base_uri": "https://localhost:8080/",
          "height": 97
        },
        "outputId": "74f5ea39-aa3d-42f3-9bc0-17cbc6fed1fe"
      },
      "outputs": [
        {
          "output_type": "stream",
          "name": "stdout",
          "text": [
            " * sqlite:///TMDB.db\n",
            "Done.\n"
          ]
        },
        {
          "output_type": "execute_result",
          "data": {
            "text/plain": [
              "[(7,)]"
            ],
            "text/html": [
              "<table>\n",
              "    <thead>\n",
              "        <tr>\n",
              "            <th>count(*)</th>\n",
              "        </tr>\n",
              "    </thead>\n",
              "    <tbody>\n",
              "        <tr>\n",
              "            <td>7</td>\n",
              "        </tr>\n",
              "    </tbody>\n",
              "</table>"
            ]
          },
          "metadata": {},
          "execution_count": 8
        }
      ],
      "source": [
        "%%sql\n",
        "select count(*)\n",
        "from Oscars\n",
        "where name like '%Cate Blanchett%';"
      ]
    },
    {
      "cell_type": "markdown",
      "metadata": {
        "id": "B2vmIMtTJqn5"
      },
      "source": [
        "### Question 11\n",
        "What would be the code to insert a new genre called ‘Sport’ with an id of 10?\n"
      ]
    },
    {
      "cell_type": "code",
      "execution_count": null,
      "metadata": {
        "id": "KxHhto3QJqn5",
        "colab": {
          "base_uri": "https://localhost:8080/"
        },
        "outputId": "850aebe7-adb2-44d0-f099-5e4ab4b69b69"
      },
      "outputs": [
        {
          "output_type": "stream",
          "name": "stdout",
          "text": [
            " * sqlite:///TMDB.db\n",
            "1 rows affected.\n"
          ]
        },
        {
          "output_type": "execute_result",
          "data": {
            "text/plain": [
              "[]"
            ]
          },
          "metadata": {},
          "execution_count": 9
        }
      ],
      "source": [
        "%%sql\n",
        "insert into Genres (genre_id, genre_name)\n",
        "values (10, 'Sport');"
      ]
    },
    {
      "cell_type": "markdown",
      "metadata": {
        "id": "wJLGKPNqJqn5"
      },
      "source": [
        "### Question 12\n",
        "You have just watched The Flintstones movie and did not find it very funny. What code would delete the entry that links The Flintstones to the Comedy genre?\n"
      ]
    },
    {
      "cell_type": "code",
      "execution_count": null,
      "metadata": {
        "id": "ClMS3iSiJqn5",
        "colab": {
          "base_uri": "https://localhost:8080/",
          "height": 118
        },
        "outputId": "e0b0a601-e1b8-4e7d-9764-0acd3c2917f0"
      },
      "outputs": [
        {
          "output_type": "stream",
          "name": "stdout",
          "text": [
            " * sqlite:///TMDB.db\n",
            "Done.\n"
          ]
        },
        {
          "output_type": "execute_result",
          "data": {
            "text/plain": [
              "[(888,)]"
            ],
            "text/html": [
              "<table>\n",
              "    <thead>\n",
              "        <tr>\n",
              "            <th>movie_id</th>\n",
              "        </tr>\n",
              "    </thead>\n",
              "    <tbody>\n",
              "        <tr>\n",
              "            <td>888</td>\n",
              "        </tr>\n",
              "    </tbody>\n",
              "</table>"
            ]
          },
          "metadata": {},
          "execution_count": 3
        }
      ],
      "source": [
        "%%sql\n",
        "select movie_id\n",
        "from movies\n",
        "where title = 'The Flintstones';"
      ]
    },
    {
      "cell_type": "code",
      "source": [
        "%%sql\n",
        "select genre_id\n",
        "from genres\n",
        "where genre_name = 'Comedy';"
      ],
      "metadata": {
        "colab": {
          "base_uri": "https://localhost:8080/",
          "height": 118
        },
        "id": "Sn1IeGWmLrWP",
        "outputId": "1826de8e-2c33-4a1b-db2b-89fc59fe5352"
      },
      "execution_count": null,
      "outputs": [
        {
          "output_type": "stream",
          "name": "stdout",
          "text": [
            " * sqlite:///TMDB.db\n",
            "Done.\n"
          ]
        },
        {
          "output_type": "execute_result",
          "data": {
            "text/plain": [
              "[(35,)]"
            ],
            "text/html": [
              "<table>\n",
              "    <thead>\n",
              "        <tr>\n",
              "            <th>genre_id</th>\n",
              "        </tr>\n",
              "    </thead>\n",
              "    <tbody>\n",
              "        <tr>\n",
              "            <td>35</td>\n",
              "        </tr>\n",
              "    </tbody>\n",
              "</table>"
            ]
          },
          "metadata": {},
          "execution_count": 4
        }
      ]
    },
    {
      "cell_type": "code",
      "source": [
        "%%sql\n",
        "Delete FROM GenreMap\n",
        "WHERE movie_id = 888 AND genre_id = 35;"
      ],
      "metadata": {
        "colab": {
          "base_uri": "https://localhost:8080/"
        },
        "id": "4gbSZntqMKGT",
        "outputId": "82d42985-80d1-4e1f-eb88-c68388c4f2e3"
      },
      "execution_count": null,
      "outputs": [
        {
          "output_type": "stream",
          "name": "stdout",
          "text": [
            " * sqlite:///TMDB.db\n",
            "1 rows affected.\n"
          ]
        },
        {
          "output_type": "execute_result",
          "data": {
            "text/plain": [
              "[]"
            ]
          },
          "metadata": {},
          "execution_count": 9
        }
      ]
    },
    {
      "cell_type": "markdown",
      "metadata": {
        "id": "ZHMUw-F3Jqn5"
      },
      "source": [
        "### Question 13\n",
        "What code will give me the 10 most recently released movies in the database? and put it in a list\n"
      ]
    },
    {
      "cell_type": "code",
      "execution_count": null,
      "metadata": {
        "id": "T7ZoP3zHJqn6",
        "colab": {
          "base_uri": "https://localhost:8080/",
          "height": 97
        },
        "outputId": "e90932d6-1c79-4ea9-cc9d-770a528c1c6c"
      },
      "outputs": [
        {
          "output_type": "stream",
          "name": "stdout",
          "text": [
            " * sqlite:///TMDB.db\n",
            "Done.\n"
          ]
        },
        {
          "output_type": "execute_result",
          "data": {
            "text/plain": [
              "[('Growing Up Smith',)]"
            ],
            "text/html": [
              "<table>\n",
              "    <thead>\n",
              "        <tr>\n",
              "            <th>title</th>\n",
              "        </tr>\n",
              "    </thead>\n",
              "    <tbody>\n",
              "        <tr>\n",
              "            <td>Growing Up Smith</td>\n",
              "        </tr>\n",
              "    </tbody>\n",
              "</table>"
            ]
          },
          "metadata": {},
          "execution_count": 5
        }
      ],
      "source": [
        "%%sql\n",
        "select title\n",
        "from movies\n",
        "order by release_date desc\n",
        "limit 1;"
      ]
    },
    {
      "cell_type": "markdown",
      "source": [
        "# **Making analysis on the data to get more insights of it**"
      ],
      "metadata": {
        "id": "iWSZMT26tTyo"
      }
    },
    {
      "cell_type": "code",
      "source": [
        "#Investehating information about movies\n",
        "%%sql\n",
        "select *\n",
        "from movies\n",
        "limit 5;"
      ],
      "metadata": {
        "colab": {
          "base_uri": "https://localhost:8080/",
          "height": 1000
        },
        "id": "IZjZ2U9id2cj",
        "outputId": "099d6615-04f4-4c5c-d312-f611e9900da7"
      },
      "execution_count": null,
      "outputs": [
        {
          "output_type": "stream",
          "name": "stdout",
          "text": [
            " * sqlite:///TMDB.db\n",
            "Done.\n"
          ]
        },
        {
          "output_type": "execute_result",
          "data": {
            "text/plain": [
              "[(5, 'Four Rooms', '1995-12-09 00:00:00.000000', 4000000, None, 'en', 'Four Rooms', \"It's Ted the Bellhop's first night on the job...and the hotel's very unusual guests are about to place him in some outrageous predicaments. It seems that this evening's room service is serving up one unbelievable happening after another.\", 22.87623, 4300000.0, 98.0, 'Released', \"Twelve outrageous guests. Four scandalous requests. And one lone bellhop, in his first day on the job, who's in for the wildest New year's Eve of his life.\", 6.5, 530),\n",
              " (11, 'Star Wars', '1977-05-25 00:00:00.000000', 11000000, 'http://www.starwars.com/films/star-wars-episode-iv-a-new-hope', 'en', 'Star Wars', 'Princess Leia is captured and held hostage by the evil Imperial forces in their effort to take over the galactic Empire. Venturesome Luke Skywalker a ... (14 characters truncated) ... tain Han Solo team together with the loveable robot duo R2-D2 and C-3PO to rescue the beautiful princess and restore peace and justice in the Empire.', 126.393695, 775398007.0, 121.0, 'Released', 'A long time ago in a galaxy far, far away...', 8.1, 6624),\n",
              " (12, 'Finding Nemo', '2003-05-30 00:00:00.000000', 94000000, 'http://movies.disney.com/finding-nemo', 'en', 'Finding Nemo', \"Nemo, an adventurous young clownfish, is unexpectedly taken from his Great Barrier Reef home to a dentist's office aquarium. It's up to his worrisome ... (35 characters truncated) ... orgetful fish Dory to bring Nemo home -- meeting vegetarian sharks, surfer dude turtles, hypnotic jellyfish, hungry seagulls, and more along the way.\", 85.688789, 940335536.0, 100.0, 'Released', \"There are 3.7 trillion fish in the ocean, they're looking for one.\", 7.6, 6122),\n",
              " (13, 'Forrest Gump', '1994-07-06 00:00:00.000000', 55000000, None, 'en', 'Forrest Gump', \"A man with a low IQ has accomplished great things in his life and been present during significant historic events - in each case, far exceeding what  ... (108 characters truncated) ... rest Gump' is the story of a man who rose above his challenges, and who proved that determination, courage, and love are more important than ability.\", 138.133331, 677945399.0, 142.0, 'Released', \"The world will never be the same, once you've seen it through the eyes of Forrest Gump.\", 8.2, 7927),\n",
              " (14, 'American Beauty', '1999-09-15 00:00:00.000000', 15000000, 'http://www.dreamworks.com/ab/', 'en', 'American Beauty', \"Lester Burnham, a depressed suburban father in a mid-life crisis, decides to turn his hectic life around after developing an infatuation with his daughter's attractive friend.\", 80.878605, 356296601.0, 122.0, 'Released', 'Look closer.', 7.9, 3313)]"
            ],
            "text/html": [
              "<table>\n",
              "    <thead>\n",
              "        <tr>\n",
              "            <th>movie_id</th>\n",
              "            <th>title</th>\n",
              "            <th>release_date</th>\n",
              "            <th>budget</th>\n",
              "            <th>homepage</th>\n",
              "            <th>original_language</th>\n",
              "            <th>original_title</th>\n",
              "            <th>overview</th>\n",
              "            <th>popularity</th>\n",
              "            <th>revenue</th>\n",
              "            <th>runtime</th>\n",
              "            <th>release_status</th>\n",
              "            <th>tagline</th>\n",
              "            <th>vote_average</th>\n",
              "            <th>vote_count</th>\n",
              "        </tr>\n",
              "    </thead>\n",
              "    <tbody>\n",
              "        <tr>\n",
              "            <td>5</td>\n",
              "            <td>Four Rooms</td>\n",
              "            <td>1995-12-09 00:00:00.000000</td>\n",
              "            <td>4000000</td>\n",
              "            <td>None</td>\n",
              "            <td>en</td>\n",
              "            <td>Four Rooms</td>\n",
              "            <td>It&#x27;s Ted the Bellhop&#x27;s first night on the job...and the hotel&#x27;s very unusual guests are about to place him in some outrageous predicaments. It seems that this evening&#x27;s room service is serving up one unbelievable happening after another.</td>\n",
              "            <td>22.87623</td>\n",
              "            <td>4300000.0</td>\n",
              "            <td>98.0</td>\n",
              "            <td>Released</td>\n",
              "            <td>Twelve outrageous guests. Four scandalous requests. And one lone bellhop, in his first day on the job, who&#x27;s in for the wildest New year&#x27;s Eve of his life.</td>\n",
              "            <td>6.5</td>\n",
              "            <td>530</td>\n",
              "        </tr>\n",
              "        <tr>\n",
              "            <td>11</td>\n",
              "            <td>Star Wars</td>\n",
              "            <td>1977-05-25 00:00:00.000000</td>\n",
              "            <td>11000000</td>\n",
              "            <td>http://www.starwars.com/films/star-wars-episode-iv-a-new-hope</td>\n",
              "            <td>en</td>\n",
              "            <td>Star Wars</td>\n",
              "            <td>Princess Leia is captured and held hostage by the evil Imperial forces in their effort to take over the galactic Empire. Venturesome Luke Skywalker and dashing captain Han Solo team together with the loveable robot duo R2-D2 and C-3PO to rescue the beautiful princess and restore peace and justice in the Empire.</td>\n",
              "            <td>126.393695</td>\n",
              "            <td>775398007.0</td>\n",
              "            <td>121.0</td>\n",
              "            <td>Released</td>\n",
              "            <td>A long time ago in a galaxy far, far away...</td>\n",
              "            <td>8.1</td>\n",
              "            <td>6624</td>\n",
              "        </tr>\n",
              "        <tr>\n",
              "            <td>12</td>\n",
              "            <td>Finding Nemo</td>\n",
              "            <td>2003-05-30 00:00:00.000000</td>\n",
              "            <td>94000000</td>\n",
              "            <td>http://movies.disney.com/finding-nemo</td>\n",
              "            <td>en</td>\n",
              "            <td>Finding Nemo</td>\n",
              "            <td>Nemo, an adventurous young clownfish, is unexpectedly taken from his Great Barrier Reef home to a dentist&#x27;s office aquarium. It&#x27;s up to his worrisome father Marlin and a friendly but forgetful fish Dory to bring Nemo home -- meeting vegetarian sharks, surfer dude turtles, hypnotic jellyfish, hungry seagulls, and more along the way.</td>\n",
              "            <td>85.688789</td>\n",
              "            <td>940335536.0</td>\n",
              "            <td>100.0</td>\n",
              "            <td>Released</td>\n",
              "            <td>There are 3.7 trillion fish in the ocean, they&#x27;re looking for one.</td>\n",
              "            <td>7.6</td>\n",
              "            <td>6122</td>\n",
              "        </tr>\n",
              "        <tr>\n",
              "            <td>13</td>\n",
              "            <td>Forrest Gump</td>\n",
              "            <td>1994-07-06 00:00:00.000000</td>\n",
              "            <td>55000000</td>\n",
              "            <td>None</td>\n",
              "            <td>en</td>\n",
              "            <td>Forrest Gump</td>\n",
              "            <td>A man with a low IQ has accomplished great things in his life and been present during significant historic events - in each case, far exceeding what anyone imagined he could do. Yet, despite all the things he has attained, his one true love eludes him. &#x27;Forrest Gump&#x27; is the story of a man who rose above his challenges, and who proved that determination, courage, and love are more important than ability.</td>\n",
              "            <td>138.133331</td>\n",
              "            <td>677945399.0</td>\n",
              "            <td>142.0</td>\n",
              "            <td>Released</td>\n",
              "            <td>The world will never be the same, once you&#x27;ve seen it through the eyes of Forrest Gump.</td>\n",
              "            <td>8.2</td>\n",
              "            <td>7927</td>\n",
              "        </tr>\n",
              "        <tr>\n",
              "            <td>14</td>\n",
              "            <td>American Beauty</td>\n",
              "            <td>1999-09-15 00:00:00.000000</td>\n",
              "            <td>15000000</td>\n",
              "            <td>http://www.dreamworks.com/ab/</td>\n",
              "            <td>en</td>\n",
              "            <td>American Beauty</td>\n",
              "            <td>Lester Burnham, a depressed suburban father in a mid-life crisis, decides to turn his hectic life around after developing an infatuation with his daughter&#x27;s attractive friend.</td>\n",
              "            <td>80.878605</td>\n",
              "            <td>356296601.0</td>\n",
              "            <td>122.0</td>\n",
              "            <td>Released</td>\n",
              "            <td>Look closer.</td>\n",
              "            <td>7.9</td>\n",
              "            <td>3313</td>\n",
              "        </tr>\n",
              "    </tbody>\n",
              "</table>"
            ]
          },
          "metadata": {},
          "execution_count": 7
        }
      ]
    },
    {
      "cell_type": "code",
      "source": [
        "#investigating Oscars table\n",
        "%%sql\n",
        "select *\n",
        "from Oscars\n",
        "limit 10;"
      ],
      "metadata": {
        "colab": {
          "base_uri": "https://localhost:8080/",
          "height": 310
        },
        "id": "H2ovVcUElF2u",
        "outputId": "6e630832-f59e-41ed-8c60-4d12c629fef6"
      },
      "execution_count": 4,
      "outputs": [
        {
          "output_type": "stream",
          "name": "stdout",
          "text": [
            " * sqlite:///TMDB.db\n",
            "Done.\n"
          ]
        },
        {
          "output_type": "execute_result",
          "data": {
            "text/plain": [
              "[('1927/1928', 'Actor', None, 'Richard Barthelmess', 'The Noose'),\n",
              " ('1927/1928', 'Actor', '1.0', 'Emil Jannings', 'The Last Command'),\n",
              " ('1927/1928', 'Actress', None, 'Louise Dresser', 'A Ship Comes In'),\n",
              " ('1927/1928', 'Actress', '1.0', 'Janet Gaynor', '7th Heaven'),\n",
              " ('1927/1928', 'Actress', None, 'Gloria Swanson', 'Sadie Thompson'),\n",
              " ('1927/1928', 'Art Direction', None, 'Rochus Gliese', 'Sunrise'),\n",
              " ('1927/1928', 'Art Direction', '1.0', 'William Cameron Menzies', 'The Dove; Tempest'),\n",
              " ('1927/1928', 'Art Direction', None, 'Harry Oliver', '7th Heaven'),\n",
              " ('1927/1928', 'Cinematography', None, 'George Barnes', 'The Devil Dancer; The Magic Flame; Sadie Thompson'),\n",
              " ('1927/1928', 'Cinematography', '1.0', 'Charles Rosher', 'Sunrise')]"
            ],
            "text/html": [
              "<table>\n",
              "    <thead>\n",
              "        <tr>\n",
              "            <th>year</th>\n",
              "            <th>award</th>\n",
              "            <th>winner</th>\n",
              "            <th>name</th>\n",
              "            <th>film</th>\n",
              "        </tr>\n",
              "    </thead>\n",
              "    <tbody>\n",
              "        <tr>\n",
              "            <td>1927/1928</td>\n",
              "            <td>Actor</td>\n",
              "            <td>None</td>\n",
              "            <td>Richard Barthelmess</td>\n",
              "            <td>The Noose</td>\n",
              "        </tr>\n",
              "        <tr>\n",
              "            <td>1927/1928</td>\n",
              "            <td>Actor</td>\n",
              "            <td>1.0</td>\n",
              "            <td>Emil Jannings</td>\n",
              "            <td>The Last Command</td>\n",
              "        </tr>\n",
              "        <tr>\n",
              "            <td>1927/1928</td>\n",
              "            <td>Actress</td>\n",
              "            <td>None</td>\n",
              "            <td>Louise Dresser</td>\n",
              "            <td>A Ship Comes In</td>\n",
              "        </tr>\n",
              "        <tr>\n",
              "            <td>1927/1928</td>\n",
              "            <td>Actress</td>\n",
              "            <td>1.0</td>\n",
              "            <td>Janet Gaynor</td>\n",
              "            <td>7th Heaven</td>\n",
              "        </tr>\n",
              "        <tr>\n",
              "            <td>1927/1928</td>\n",
              "            <td>Actress</td>\n",
              "            <td>None</td>\n",
              "            <td>Gloria Swanson</td>\n",
              "            <td>Sadie Thompson</td>\n",
              "        </tr>\n",
              "        <tr>\n",
              "            <td>1927/1928</td>\n",
              "            <td>Art Direction</td>\n",
              "            <td>None</td>\n",
              "            <td>Rochus Gliese</td>\n",
              "            <td>Sunrise</td>\n",
              "        </tr>\n",
              "        <tr>\n",
              "            <td>1927/1928</td>\n",
              "            <td>Art Direction</td>\n",
              "            <td>1.0</td>\n",
              "            <td>William Cameron Menzies</td>\n",
              "            <td>The Dove; Tempest</td>\n",
              "        </tr>\n",
              "        <tr>\n",
              "            <td>1927/1928</td>\n",
              "            <td>Art Direction</td>\n",
              "            <td>None</td>\n",
              "            <td>Harry Oliver</td>\n",
              "            <td>7th Heaven</td>\n",
              "        </tr>\n",
              "        <tr>\n",
              "            <td>1927/1928</td>\n",
              "            <td>Cinematography</td>\n",
              "            <td>None</td>\n",
              "            <td>George Barnes</td>\n",
              "            <td>The Devil Dancer; The Magic Flame; Sadie Thompson</td>\n",
              "        </tr>\n",
              "        <tr>\n",
              "            <td>1927/1928</td>\n",
              "            <td>Cinematography</td>\n",
              "            <td>1.0</td>\n",
              "            <td>Charles Rosher</td>\n",
              "            <td>Sunrise</td>\n",
              "        </tr>\n",
              "    </tbody>\n",
              "</table>"
            ]
          },
          "metadata": {},
          "execution_count": 4
        }
      ]
    },
    {
      "cell_type": "code",
      "source": [
        "#Showing top 10 rated moives\n",
        "%%sql\n",
        "select title As Film_Name, vote_average AS Rating\n",
        "from movies\n",
        "order by vote_average desc\n",
        "limit 10;"
      ],
      "metadata": {
        "colab": {
          "base_uri": "https://localhost:8080/",
          "height": 310
        },
        "id": "sgW3_0BGmOZ_",
        "outputId": "1973f9ba-3496-40f6-98ae-ad489652b11d"
      },
      "execution_count": null,
      "outputs": [
        {
          "output_type": "stream",
          "name": "stdout",
          "text": [
            " * sqlite:///TMDB.db\n",
            "Done.\n"
          ]
        },
        {
          "output_type": "execute_result",
          "data": {
            "text/plain": [
              "[('Little Big Top', 10.0),\n",
              " ('Dancer, Texas Pop. 81', 10.0),\n",
              " ('Stiff Upper Lips', 10.0),\n",
              " ('Me You and Five Bucks', 10.0),\n",
              " ('Sardaarji', 9.5),\n",
              " (\"One Man's Hero\", 9.3),\n",
              " ('The Shawshank Redemption', 8.5),\n",
              " ('There Goes My Baby', 8.5),\n",
              " ('The Godfather', 8.4),\n",
              " ('The Prisoner of Zenda', 8.4)]"
            ],
            "text/html": [
              "<table>\n",
              "    <thead>\n",
              "        <tr>\n",
              "            <th>Film_Name</th>\n",
              "            <th>Rating</th>\n",
              "        </tr>\n",
              "    </thead>\n",
              "    <tbody>\n",
              "        <tr>\n",
              "            <td>Little Big Top</td>\n",
              "            <td>10.0</td>\n",
              "        </tr>\n",
              "        <tr>\n",
              "            <td>Dancer, Texas Pop. 81</td>\n",
              "            <td>10.0</td>\n",
              "        </tr>\n",
              "        <tr>\n",
              "            <td>Stiff Upper Lips</td>\n",
              "            <td>10.0</td>\n",
              "        </tr>\n",
              "        <tr>\n",
              "            <td>Me You and Five Bucks</td>\n",
              "            <td>10.0</td>\n",
              "        </tr>\n",
              "        <tr>\n",
              "            <td>Sardaarji</td>\n",
              "            <td>9.5</td>\n",
              "        </tr>\n",
              "        <tr>\n",
              "            <td>One Man&#x27;s Hero</td>\n",
              "            <td>9.3</td>\n",
              "        </tr>\n",
              "        <tr>\n",
              "            <td>The Shawshank Redemption</td>\n",
              "            <td>8.5</td>\n",
              "        </tr>\n",
              "        <tr>\n",
              "            <td>There Goes My Baby</td>\n",
              "            <td>8.5</td>\n",
              "        </tr>\n",
              "        <tr>\n",
              "            <td>The Godfather</td>\n",
              "            <td>8.4</td>\n",
              "        </tr>\n",
              "        <tr>\n",
              "            <td>The Prisoner of Zenda</td>\n",
              "            <td>8.4</td>\n",
              "        </tr>\n",
              "    </tbody>\n",
              "</table>"
            ]
          },
          "metadata": {},
          "execution_count": 10
        }
      ]
    },
    {
      "cell_type": "code",
      "source": [
        "#The above query may not be very accurate as the number of votes also should be considered\n",
        "%%sql\n",
        "SELECT title As Film_Name, vote_average AS Rating\n",
        "FROM movies\n",
        "WHERE vote_count >= 1000\n",
        "ORDER BY vote_average DESC\n",
        "LIMIT 10;"
      ],
      "metadata": {
        "colab": {
          "base_uri": "https://localhost:8080/",
          "height": 290
        },
        "id": "zr3CjKLxrkfS",
        "outputId": "e1e14d46-83e5-48e8-bbae-567e668e2fff"
      },
      "execution_count": null,
      "outputs": [
        {
          "output_type": "stream",
          "name": "stdout",
          "text": [
            " * sqlite:///TMDB.db\n",
            "Done.\n"
          ]
        },
        {
          "output_type": "execute_result",
          "data": {
            "text/plain": [
              "[('The Shawshank Redemption', 8.5),\n",
              " ('The Godfather', 8.4),\n",
              " ('Spirited Away', 8.3),\n",
              " ('The Godfather: Part II', 8.3),\n",
              " (\"Schindler's List\", 8.3),\n",
              " ('Fight Club', 8.3),\n",
              " ('Pulp Fiction', 8.3),\n",
              " ('Whiplash', 8.3),\n",
              " ('Forrest Gump', 8.2),\n",
              " ('American History X', 8.2)]"
            ],
            "text/html": [
              "<table>\n",
              "    <thead>\n",
              "        <tr>\n",
              "            <th>Film_Name</th>\n",
              "            <th>Rating</th>\n",
              "        </tr>\n",
              "    </thead>\n",
              "    <tbody>\n",
              "        <tr>\n",
              "            <td>The Shawshank Redemption</td>\n",
              "            <td>8.5</td>\n",
              "        </tr>\n",
              "        <tr>\n",
              "            <td>The Godfather</td>\n",
              "            <td>8.4</td>\n",
              "        </tr>\n",
              "        <tr>\n",
              "            <td>Spirited Away</td>\n",
              "            <td>8.3</td>\n",
              "        </tr>\n",
              "        <tr>\n",
              "            <td>The Godfather: Part II</td>\n",
              "            <td>8.3</td>\n",
              "        </tr>\n",
              "        <tr>\n",
              "            <td>Schindler&#x27;s List</td>\n",
              "            <td>8.3</td>\n",
              "        </tr>\n",
              "        <tr>\n",
              "            <td>Fight Club</td>\n",
              "            <td>8.3</td>\n",
              "        </tr>\n",
              "        <tr>\n",
              "            <td>Pulp Fiction</td>\n",
              "            <td>8.3</td>\n",
              "        </tr>\n",
              "        <tr>\n",
              "            <td>Whiplash</td>\n",
              "            <td>8.3</td>\n",
              "        </tr>\n",
              "        <tr>\n",
              "            <td>Forrest Gump</td>\n",
              "            <td>8.2</td>\n",
              "        </tr>\n",
              "        <tr>\n",
              "            <td>American History X</td>\n",
              "            <td>8.2</td>\n",
              "        </tr>\n",
              "    </tbody>\n",
              "</table>"
            ]
          },
          "metadata": {},
          "execution_count": 62
        }
      ]
    },
    {
      "cell_type": "code",
      "source": [
        "# Showing the most popular moives\n",
        "%%sql\n",
        "select title As Film_Name, popularity popularity\n",
        "from movies\n",
        "order by popularity desc\n",
        "limit 10;"
      ],
      "metadata": {
        "colab": {
          "base_uri": "https://localhost:8080/",
          "height": 290
        },
        "id": "tVXT2AE1tr90",
        "outputId": "fb6eb525-64b8-4909-e6cc-7edccd6aebc1"
      },
      "execution_count": null,
      "outputs": [
        {
          "output_type": "stream",
          "name": "stdout",
          "text": [
            " * sqlite:///TMDB.db\n",
            "Done.\n"
          ]
        },
        {
          "output_type": "execute_result",
          "data": {
            "text/plain": [
              "[('Minions', 875.581305),\n",
              " ('Interstellar', 724.247784),\n",
              " ('Deadpool', 514.569956),\n",
              " ('Guardians of the Galaxy', 481.098624),\n",
              " ('Mad Max: Fury Road', 434.278564),\n",
              " ('Jurassic World', 418.708552),\n",
              " ('Pirates of the Caribbean: The Curse of the Black Pearl', 271.972889),\n",
              " ('Dawn of the Planet of the Apes', 243.791743),\n",
              " ('The Hunger Games: Mockingjay - Part 1', 206.227151),\n",
              " ('Big Hero 6', 203.73459)]"
            ],
            "text/html": [
              "<table>\n",
              "    <thead>\n",
              "        <tr>\n",
              "            <th>Film_Name</th>\n",
              "            <th>popularity</th>\n",
              "        </tr>\n",
              "    </thead>\n",
              "    <tbody>\n",
              "        <tr>\n",
              "            <td>Minions</td>\n",
              "            <td>875.581305</td>\n",
              "        </tr>\n",
              "        <tr>\n",
              "            <td>Interstellar</td>\n",
              "            <td>724.247784</td>\n",
              "        </tr>\n",
              "        <tr>\n",
              "            <td>Deadpool</td>\n",
              "            <td>514.569956</td>\n",
              "        </tr>\n",
              "        <tr>\n",
              "            <td>Guardians of the Galaxy</td>\n",
              "            <td>481.098624</td>\n",
              "        </tr>\n",
              "        <tr>\n",
              "            <td>Mad Max: Fury Road</td>\n",
              "            <td>434.278564</td>\n",
              "        </tr>\n",
              "        <tr>\n",
              "            <td>Jurassic World</td>\n",
              "            <td>418.708552</td>\n",
              "        </tr>\n",
              "        <tr>\n",
              "            <td>Pirates of the Caribbean: The Curse of the Black Pearl</td>\n",
              "            <td>271.972889</td>\n",
              "        </tr>\n",
              "        <tr>\n",
              "            <td>Dawn of the Planet of the Apes</td>\n",
              "            <td>243.791743</td>\n",
              "        </tr>\n",
              "        <tr>\n",
              "            <td>The Hunger Games: Mockingjay - Part 1</td>\n",
              "            <td>206.227151</td>\n",
              "        </tr>\n",
              "        <tr>\n",
              "            <td>Big Hero 6</td>\n",
              "            <td>203.73459</td>\n",
              "        </tr>\n",
              "    </tbody>\n",
              "</table>"
            ]
          },
          "metadata": {},
          "execution_count": 61
        }
      ]
    },
    {
      "cell_type": "code",
      "source": [
        "# Showing Moives with the highest revenu\n",
        "%%sql\n",
        "select title As Film_Name, revenue AS Revenue\n",
        "from movies\n",
        "order by revenue desc\n",
        "limit 10;"
      ],
      "metadata": {
        "colab": {
          "base_uri": "https://localhost:8080/",
          "height": 310
        },
        "id": "P2YZJoPVuKdn",
        "outputId": "dba5cdd4-75fa-4729-c83a-664747877305"
      },
      "execution_count": 5,
      "outputs": [
        {
          "output_type": "stream",
          "name": "stdout",
          "text": [
            " * sqlite:///TMDB.db\n",
            "Done.\n"
          ]
        },
        {
          "output_type": "execute_result",
          "data": {
            "text/plain": [
              "[('Avatar', 2787965087.0),\n",
              " ('Titanic', 1845034188.0),\n",
              " ('The Avengers', 1519557910.0),\n",
              " ('Jurassic World', 1513528810.0),\n",
              " ('Furious 7', 1506249360.0),\n",
              " ('Avengers: Age of Ultron', 1405403694.0),\n",
              " ('Frozen', 1274219009.0),\n",
              " ('Iron Man 3', 1215439994.0),\n",
              " ('Minions', 1156730962.0),\n",
              " ('Captain America: Civil War', 1153304495.0)]"
            ],
            "text/html": [
              "<table>\n",
              "    <thead>\n",
              "        <tr>\n",
              "            <th>Film_Name</th>\n",
              "            <th>Revenue</th>\n",
              "        </tr>\n",
              "    </thead>\n",
              "    <tbody>\n",
              "        <tr>\n",
              "            <td>Avatar</td>\n",
              "            <td>2787965087.0</td>\n",
              "        </tr>\n",
              "        <tr>\n",
              "            <td>Titanic</td>\n",
              "            <td>1845034188.0</td>\n",
              "        </tr>\n",
              "        <tr>\n",
              "            <td>The Avengers</td>\n",
              "            <td>1519557910.0</td>\n",
              "        </tr>\n",
              "        <tr>\n",
              "            <td>Jurassic World</td>\n",
              "            <td>1513528810.0</td>\n",
              "        </tr>\n",
              "        <tr>\n",
              "            <td>Furious 7</td>\n",
              "            <td>1506249360.0</td>\n",
              "        </tr>\n",
              "        <tr>\n",
              "            <td>Avengers: Age of Ultron</td>\n",
              "            <td>1405403694.0</td>\n",
              "        </tr>\n",
              "        <tr>\n",
              "            <td>Frozen</td>\n",
              "            <td>1274219009.0</td>\n",
              "        </tr>\n",
              "        <tr>\n",
              "            <td>Iron Man 3</td>\n",
              "            <td>1215439994.0</td>\n",
              "        </tr>\n",
              "        <tr>\n",
              "            <td>Minions</td>\n",
              "            <td>1156730962.0</td>\n",
              "        </tr>\n",
              "        <tr>\n",
              "            <td>Captain America: Civil War</td>\n",
              "            <td>1153304495.0</td>\n",
              "        </tr>\n",
              "    </tbody>\n",
              "</table>"
            ]
          },
          "metadata": {},
          "execution_count": 5
        }
      ]
    },
    {
      "cell_type": "markdown",
      "source": [
        "From the above three queries we can say that the there was no relation between a moive rating and it's popularity\n",
        "and only one moive (Minions) appeared on both revenu and popularity"
      ],
      "metadata": {
        "id": "xXr3aY1-vrWM"
      }
    },
    {
      "cell_type": "markdown",
      "source": [
        "# Quering data based on original language"
      ],
      "metadata": {
        "id": "L0FPcnbvkNt8"
      }
    },
    {
      "cell_type": "code",
      "source": [
        "# Showing the distribution of movies by language.\n",
        "%%sql\n",
        "SELECT original_language AS Language , COUNT(*) AS movie_count\n",
        "FROM movies\n",
        "GROUP BY original_language\n",
        "ORDER BY movie_count DESC\n",
        "limit 10;"
      ],
      "metadata": {
        "colab": {
          "base_uri": "https://localhost:8080/",
          "height": 310
        },
        "id": "ASS9zSAF44Nd",
        "outputId": "92500fb5-414d-4cd3-f3c9-d26b42184414"
      },
      "execution_count": 8,
      "outputs": [
        {
          "output_type": "stream",
          "name": "stdout",
          "text": [
            " * sqlite:///TMDB.db\n",
            "Done.\n"
          ]
        },
        {
          "output_type": "execute_result",
          "data": {
            "text/plain": [
              "[('en', 4505),\n",
              " ('fr', 70),\n",
              " ('es', 32),\n",
              " ('zh', 27),\n",
              " ('de', 27),\n",
              " ('hi', 19),\n",
              " ('ja', 16),\n",
              " ('it', 14),\n",
              " ('cn', 12),\n",
              " ('ru', 11)]"
            ],
            "text/html": [
              "<table>\n",
              "    <thead>\n",
              "        <tr>\n",
              "            <th>Language</th>\n",
              "            <th>movie_count</th>\n",
              "        </tr>\n",
              "    </thead>\n",
              "    <tbody>\n",
              "        <tr>\n",
              "            <td>en</td>\n",
              "            <td>4505</td>\n",
              "        </tr>\n",
              "        <tr>\n",
              "            <td>fr</td>\n",
              "            <td>70</td>\n",
              "        </tr>\n",
              "        <tr>\n",
              "            <td>es</td>\n",
              "            <td>32</td>\n",
              "        </tr>\n",
              "        <tr>\n",
              "            <td>zh</td>\n",
              "            <td>27</td>\n",
              "        </tr>\n",
              "        <tr>\n",
              "            <td>de</td>\n",
              "            <td>27</td>\n",
              "        </tr>\n",
              "        <tr>\n",
              "            <td>hi</td>\n",
              "            <td>19</td>\n",
              "        </tr>\n",
              "        <tr>\n",
              "            <td>ja</td>\n",
              "            <td>16</td>\n",
              "        </tr>\n",
              "        <tr>\n",
              "            <td>it</td>\n",
              "            <td>14</td>\n",
              "        </tr>\n",
              "        <tr>\n",
              "            <td>cn</td>\n",
              "            <td>12</td>\n",
              "        </tr>\n",
              "        <tr>\n",
              "            <td>ru</td>\n",
              "            <td>11</td>\n",
              "        </tr>\n",
              "    </tbody>\n",
              "</table>"
            ]
          },
          "metadata": {},
          "execution_count": 8
        }
      ]
    },
    {
      "cell_type": "markdown",
      "source": [
        "**We notice that most movies have the English language as there original languge. so, English would be the language that gets the most revenu and has more popular movies. but what if we took the average of revenu, rating and popularity per language**"
      ],
      "metadata": {
        "id": "fYCAIVJ0l6ap"
      }
    },
    {
      "cell_type": "code",
      "source": [
        "%%sql\n",
        "select original_language as Languge , round((avg(revenue)/1000000),2) as avg_revenue, round(avg(vote_average),1) as avg_rating\n",
        ", round(avg(popularity),2) as avg_popularity\n",
        "from movies\n",
        "group by original_language\n",
        "order by avg_popularity desc\n",
        "limit 10;\n"
      ],
      "metadata": {
        "colab": {
          "base_uri": "https://localhost:8080/",
          "height": 290
        },
        "id": "Sc_wjY11mryI",
        "outputId": "a31fbc59-903e-4282-acd8-ebd96fbdfb44"
      },
      "execution_count": null,
      "outputs": [
        {
          "output_type": "stream",
          "name": "stdout",
          "text": [
            " * sqlite:///TMDB.db\n",
            "Done.\n"
          ]
        },
        {
          "output_type": "execute_result",
          "data": {
            "text/plain": [
              "[('el', 0.11, 6.9, 28.86),\n",
              " ('ja', 66.03, 7.1, 25.66),\n",
              " ('id', 2.27, 7.4, 24.59),\n",
              " ('en', 86.48, 6.1, 22.18),\n",
              " ('ko', 25.36, 6.7, 19.49),\n",
              " ('it', 3.03, 7.0, 17.82),\n",
              " ('da', 29.9, 7.1, 17.66),\n",
              " ('te', 100.0, 7.5, 16.25),\n",
              " ('es', 18.65, 6.7, 13.33),\n",
              " ('pl', 10.7, 7.1, 13.27)]"
            ],
            "text/html": [
              "<table>\n",
              "    <thead>\n",
              "        <tr>\n",
              "            <th>Languge</th>\n",
              "            <th>avg_revenue</th>\n",
              "            <th>avg_rating</th>\n",
              "            <th>avg_popularity</th>\n",
              "        </tr>\n",
              "    </thead>\n",
              "    <tbody>\n",
              "        <tr>\n",
              "            <td>el</td>\n",
              "            <td>0.11</td>\n",
              "            <td>6.9</td>\n",
              "            <td>28.86</td>\n",
              "        </tr>\n",
              "        <tr>\n",
              "            <td>ja</td>\n",
              "            <td>66.03</td>\n",
              "            <td>7.1</td>\n",
              "            <td>25.66</td>\n",
              "        </tr>\n",
              "        <tr>\n",
              "            <td>id</td>\n",
              "            <td>2.27</td>\n",
              "            <td>7.4</td>\n",
              "            <td>24.59</td>\n",
              "        </tr>\n",
              "        <tr>\n",
              "            <td>en</td>\n",
              "            <td>86.48</td>\n",
              "            <td>6.1</td>\n",
              "            <td>22.18</td>\n",
              "        </tr>\n",
              "        <tr>\n",
              "            <td>ko</td>\n",
              "            <td>25.36</td>\n",
              "            <td>6.7</td>\n",
              "            <td>19.49</td>\n",
              "        </tr>\n",
              "        <tr>\n",
              "            <td>it</td>\n",
              "            <td>3.03</td>\n",
              "            <td>7.0</td>\n",
              "            <td>17.82</td>\n",
              "        </tr>\n",
              "        <tr>\n",
              "            <td>da</td>\n",
              "            <td>29.9</td>\n",
              "            <td>7.1</td>\n",
              "            <td>17.66</td>\n",
              "        </tr>\n",
              "        <tr>\n",
              "            <td>te</td>\n",
              "            <td>100.0</td>\n",
              "            <td>7.5</td>\n",
              "            <td>16.25</td>\n",
              "        </tr>\n",
              "        <tr>\n",
              "            <td>es</td>\n",
              "            <td>18.65</td>\n",
              "            <td>6.7</td>\n",
              "            <td>13.33</td>\n",
              "        </tr>\n",
              "        <tr>\n",
              "            <td>pl</td>\n",
              "            <td>10.7</td>\n",
              "            <td>7.1</td>\n",
              "            <td>13.27</td>\n",
              "        </tr>\n",
              "    </tbody>\n",
              "</table>"
            ]
          },
          "metadata": {},
          "execution_count": 130
        }
      ]
    },
    {
      "cell_type": "code",
      "source": [
        "%%sql\n",
        "select *\n",
        "from languages\n",
        "where iso_639_1= \"el\""
      ],
      "metadata": {
        "colab": {
          "base_uri": "https://localhost:8080/",
          "height": 118
        },
        "id": "it_mEK2TpJ2x",
        "outputId": "ab1b6f2e-3927-4160-8e34-29a1bb2d6f10"
      },
      "execution_count": 9,
      "outputs": [
        {
          "output_type": "stream",
          "name": "stdout",
          "text": [
            " * sqlite:///TMDB.db\n",
            "Done.\n"
          ]
        },
        {
          "output_type": "execute_result",
          "data": {
            "text/plain": [
              "[('el', '????????')]"
            ],
            "text/html": [
              "<table>\n",
              "    <thead>\n",
              "        <tr>\n",
              "            <th>iso_639_1</th>\n",
              "            <th>language_name</th>\n",
              "        </tr>\n",
              "    </thead>\n",
              "    <tbody>\n",
              "        <tr>\n",
              "            <td>el</td>\n",
              "            <td>????????</td>\n",
              "        </tr>\n",
              "    </tbody>\n",
              "</table>"
            ]
          },
          "metadata": {},
          "execution_count": 9
        }
      ]
    },
    {
      "cell_type": "markdown",
      "source": [
        "# Investigating data based on released date"
      ],
      "metadata": {
        "id": "VMGh-dAtMhEf"
      }
    },
    {
      "cell_type": "code",
      "source": [
        "#Retrieving movies based on their release year as inwhich country the most movies was released\n",
        "%%sql\n",
        "SELECT strftime('%Y',release_date) AS year, COUNT(*) as year_count\n",
        "FROM movies\n",
        "GROUP BY year\n",
        "order by year_count desc\n",
        "limit 10"
      ],
      "metadata": {
        "colab": {
          "base_uri": "https://localhost:8080/",
          "height": 310
        },
        "id": "nLOq6sAS5rMx",
        "outputId": "7abc287a-02fe-4ddd-90a6-6ce4cb106a3b"
      },
      "execution_count": 10,
      "outputs": [
        {
          "output_type": "stream",
          "name": "stdout",
          "text": [
            " * sqlite:///TMDB.db\n",
            "Done.\n"
          ]
        },
        {
          "output_type": "execute_result",
          "data": {
            "text/plain": [
              "[('2009', 247),\n",
              " ('2014', 238),\n",
              " ('2006', 237),\n",
              " ('2013', 231),\n",
              " ('2008', 227),\n",
              " ('2010', 225),\n",
              " ('2011', 223),\n",
              " ('2005', 217),\n",
              " ('2015', 216),\n",
              " ('2012', 208)]"
            ],
            "text/html": [
              "<table>\n",
              "    <thead>\n",
              "        <tr>\n",
              "            <th>year</th>\n",
              "            <th>year_count</th>\n",
              "        </tr>\n",
              "    </thead>\n",
              "    <tbody>\n",
              "        <tr>\n",
              "            <td>2009</td>\n",
              "            <td>247</td>\n",
              "        </tr>\n",
              "        <tr>\n",
              "            <td>2014</td>\n",
              "            <td>238</td>\n",
              "        </tr>\n",
              "        <tr>\n",
              "            <td>2006</td>\n",
              "            <td>237</td>\n",
              "        </tr>\n",
              "        <tr>\n",
              "            <td>2013</td>\n",
              "            <td>231</td>\n",
              "        </tr>\n",
              "        <tr>\n",
              "            <td>2008</td>\n",
              "            <td>227</td>\n",
              "        </tr>\n",
              "        <tr>\n",
              "            <td>2010</td>\n",
              "            <td>225</td>\n",
              "        </tr>\n",
              "        <tr>\n",
              "            <td>2011</td>\n",
              "            <td>223</td>\n",
              "        </tr>\n",
              "        <tr>\n",
              "            <td>2005</td>\n",
              "            <td>217</td>\n",
              "        </tr>\n",
              "        <tr>\n",
              "            <td>2015</td>\n",
              "            <td>216</td>\n",
              "        </tr>\n",
              "        <tr>\n",
              "            <td>2012</td>\n",
              "            <td>208</td>\n",
              "        </tr>\n",
              "    </tbody>\n",
              "</table>"
            ]
          },
          "metadata": {},
          "execution_count": 10
        }
      ]
    },
    {
      "cell_type": "code",
      "source": [
        "%%sql\n",
        "SELECT strftime('%Y',release_date) AS year, COUNT(*) as year_count\n",
        "FROM movies\n",
        "GROUP BY year\n",
        "order by year_count asc\n",
        "limit 10"
      ],
      "metadata": {
        "colab": {
          "base_uri": "https://localhost:8080/",
          "height": 310
        },
        "id": "P1cnMtaZX4xp",
        "outputId": "8c69ada6-7c50-4085-ad03-593118ea33b0"
      },
      "execution_count": 11,
      "outputs": [
        {
          "output_type": "stream",
          "name": "stdout",
          "text": [
            " * sqlite:///TMDB.db\n",
            "Done.\n"
          ]
        },
        {
          "output_type": "execute_result",
          "data": {
            "text/plain": [
              "[(None, 1),\n",
              " ('1916', 1),\n",
              " ('1925', 1),\n",
              " ('1927', 1),\n",
              " ('1930', 1),\n",
              " ('1932', 1),\n",
              " ('1934', 1),\n",
              " ('1935', 1),\n",
              " ('1941', 1),\n",
              " ('1950', 1)]"
            ],
            "text/html": [
              "<table>\n",
              "    <thead>\n",
              "        <tr>\n",
              "            <th>year</th>\n",
              "            <th>year_count</th>\n",
              "        </tr>\n",
              "    </thead>\n",
              "    <tbody>\n",
              "        <tr>\n",
              "            <td>None</td>\n",
              "            <td>1</td>\n",
              "        </tr>\n",
              "        <tr>\n",
              "            <td>1916</td>\n",
              "            <td>1</td>\n",
              "        </tr>\n",
              "        <tr>\n",
              "            <td>1925</td>\n",
              "            <td>1</td>\n",
              "        </tr>\n",
              "        <tr>\n",
              "            <td>1927</td>\n",
              "            <td>1</td>\n",
              "        </tr>\n",
              "        <tr>\n",
              "            <td>1930</td>\n",
              "            <td>1</td>\n",
              "        </tr>\n",
              "        <tr>\n",
              "            <td>1932</td>\n",
              "            <td>1</td>\n",
              "        </tr>\n",
              "        <tr>\n",
              "            <td>1934</td>\n",
              "            <td>1</td>\n",
              "        </tr>\n",
              "        <tr>\n",
              "            <td>1935</td>\n",
              "            <td>1</td>\n",
              "        </tr>\n",
              "        <tr>\n",
              "            <td>1941</td>\n",
              "            <td>1</td>\n",
              "        </tr>\n",
              "        <tr>\n",
              "            <td>1950</td>\n",
              "            <td>1</td>\n",
              "        </tr>\n",
              "    </tbody>\n",
              "</table>"
            ]
          },
          "metadata": {},
          "execution_count": 11
        }
      ]
    },
    {
      "cell_type": "markdown",
      "source": [
        "we found out that 2009 was the year with the most movies\n",
        "releases **but was 2009 had the hightest revenue??**"
      ],
      "metadata": {
        "id": "qbQfjNS0Lz4s"
      }
    },
    {
      "cell_type": "code",
      "source": [
        "# in which year movies made the highest revenue\n",
        "%%sql\n",
        "SELECT strftime('%Y',release_date) AS year, round((sum(revenue))/1000000) as year_revenue\n",
        "FROM movies\n",
        "GROUP BY year\n",
        "order by year_revenue desc\n",
        "limit 10"
      ],
      "metadata": {
        "colab": {
          "base_uri": "https://localhost:8080/",
          "height": 290
        },
        "id": "05sWg_U2MYSB",
        "outputId": "21ee9c63-651e-4edb-85c9-4c05a718f327"
      },
      "execution_count": null,
      "outputs": [
        {
          "output_type": "stream",
          "name": "stdout",
          "text": [
            " * sqlite:///TMDB.db\n",
            "Done.\n"
          ]
        },
        {
          "output_type": "execute_result",
          "data": {
            "text/plain": [
              "[('2012', 24142.0),\n",
              " ('2014', 24120.0),\n",
              " ('2013', 23411.0),\n",
              " ('2015', 22775.0),\n",
              " ('2009', 21073.0),\n",
              " ('2011', 20517.0),\n",
              " ('2010', 20349.0),\n",
              " ('2008', 18146.0),\n",
              " ('2006', 16636.0),\n",
              " ('2007', 16492.0)]"
            ],
            "text/html": [
              "<table>\n",
              "    <thead>\n",
              "        <tr>\n",
              "            <th>year</th>\n",
              "            <th>year_revenue</th>\n",
              "        </tr>\n",
              "    </thead>\n",
              "    <tbody>\n",
              "        <tr>\n",
              "            <td>2012</td>\n",
              "            <td>24142.0</td>\n",
              "        </tr>\n",
              "        <tr>\n",
              "            <td>2014</td>\n",
              "            <td>24120.0</td>\n",
              "        </tr>\n",
              "        <tr>\n",
              "            <td>2013</td>\n",
              "            <td>23411.0</td>\n",
              "        </tr>\n",
              "        <tr>\n",
              "            <td>2015</td>\n",
              "            <td>22775.0</td>\n",
              "        </tr>\n",
              "        <tr>\n",
              "            <td>2009</td>\n",
              "            <td>21073.0</td>\n",
              "        </tr>\n",
              "        <tr>\n",
              "            <td>2011</td>\n",
              "            <td>20517.0</td>\n",
              "        </tr>\n",
              "        <tr>\n",
              "            <td>2010</td>\n",
              "            <td>20349.0</td>\n",
              "        </tr>\n",
              "        <tr>\n",
              "            <td>2008</td>\n",
              "            <td>18146.0</td>\n",
              "        </tr>\n",
              "        <tr>\n",
              "            <td>2006</td>\n",
              "            <td>16636.0</td>\n",
              "        </tr>\n",
              "        <tr>\n",
              "            <td>2007</td>\n",
              "            <td>16492.0</td>\n",
              "        </tr>\n",
              "    </tbody>\n",
              "</table>"
            ]
          },
          "metadata": {},
          "execution_count": 95
        }
      ]
    },
    {
      "cell_type": "markdown",
      "source": [
        "So, 2012 was the year which had the highest total revenue and 2009 came in the fifth place"
      ],
      "metadata": {
        "id": "qziatxYZPtrO"
      }
    },
    {
      "cell_type": "markdown",
      "source": [
        "# Genre analysing"
      ],
      "metadata": {
        "id": "LDJ3GZXeeM5F"
      }
    },
    {
      "cell_type": "code",
      "source": [
        "# showing movie genre with the most movies\n",
        "%%sql\n",
        "select genre_name, count(*) as movie_count\n",
        "from movies M, (select movie_id, genre_name\n",
        "from Genremap GM , Genres G\n",
        "where GM.genre_id = G.genre_id) as MG\n",
        "on M.movie_id = MG.movie_id\n",
        "group by genre_name\n",
        "order by movie_count desc\n",
        "limit 10;"
      ],
      "metadata": {
        "colab": {
          "base_uri": "https://localhost:8080/",
          "height": 290
        },
        "id": "U1riO0P7PUDD",
        "outputId": "7aaff8b1-72d6-43a0-8349-a40f055aab8c"
      },
      "execution_count": null,
      "outputs": [
        {
          "output_type": "stream",
          "name": "stdout",
          "text": [
            " * sqlite:///TMDB.db\n",
            "Done.\n"
          ]
        },
        {
          "output_type": "execute_result",
          "data": {
            "text/plain": [
              "[('Drama', 2297),\n",
              " ('Comedy', 1722),\n",
              " ('Thriller', 1274),\n",
              " ('Action', 1154),\n",
              " ('Romance', 894),\n",
              " ('Adventure', 790),\n",
              " ('Crime', 696),\n",
              " ('Science Fiction', 535),\n",
              " ('Horror', 519),\n",
              " ('Family', 513)]"
            ],
            "text/html": [
              "<table>\n",
              "    <thead>\n",
              "        <tr>\n",
              "            <th>genre_name</th>\n",
              "            <th>movie_count</th>\n",
              "        </tr>\n",
              "    </thead>\n",
              "    <tbody>\n",
              "        <tr>\n",
              "            <td>Drama</td>\n",
              "            <td>2297</td>\n",
              "        </tr>\n",
              "        <tr>\n",
              "            <td>Comedy</td>\n",
              "            <td>1722</td>\n",
              "        </tr>\n",
              "        <tr>\n",
              "            <td>Thriller</td>\n",
              "            <td>1274</td>\n",
              "        </tr>\n",
              "        <tr>\n",
              "            <td>Action</td>\n",
              "            <td>1154</td>\n",
              "        </tr>\n",
              "        <tr>\n",
              "            <td>Romance</td>\n",
              "            <td>894</td>\n",
              "        </tr>\n",
              "        <tr>\n",
              "            <td>Adventure</td>\n",
              "            <td>790</td>\n",
              "        </tr>\n",
              "        <tr>\n",
              "            <td>Crime</td>\n",
              "            <td>696</td>\n",
              "        </tr>\n",
              "        <tr>\n",
              "            <td>Science Fiction</td>\n",
              "            <td>535</td>\n",
              "        </tr>\n",
              "        <tr>\n",
              "            <td>Horror</td>\n",
              "            <td>519</td>\n",
              "        </tr>\n",
              "        <tr>\n",
              "            <td>Family</td>\n",
              "            <td>513</td>\n",
              "        </tr>\n",
              "    </tbody>\n",
              "</table>"
            ]
          },
          "metadata": {},
          "execution_count": 108
        }
      ]
    },
    {
      "cell_type": "code",
      "source": [
        "# showing movie genre which gets the most revenu and has the hisghest rating\n",
        "%%sql\n",
        "select genre_name, round((SUM(revenue)/1000000),2) as total_revenue_Per_M, round(AVG(vote_average),1) as avg_rating,\n",
        "round(AVG(popularity),1) as avg_popularity\n",
        "from movies M, (select movie_id, genre_name\n",
        "from Genremap GM , Genres G\n",
        "where GM.genre_id = G.genre_id) as MG\n",
        "on M.movie_id = MG.movie_id\n",
        "group by genre_name\n",
        "order by total_revenue_Per_M desc, avg_rating\n",
        "limit 10"
      ],
      "metadata": {
        "colab": {
          "base_uri": "https://localhost:8080/",
          "height": 310
        },
        "id": "lfg6fdrDiEKS",
        "outputId": "1231af18-002c-4044-9d25-1c52f688fdab"
      },
      "execution_count": null,
      "outputs": [
        {
          "output_type": "stream",
          "name": "stdout",
          "text": [
            " * sqlite:///TMDB.db\n",
            "Done.\n"
          ]
        },
        {
          "output_type": "execute_result",
          "data": {
            "text/plain": [
              "[('Adventure', 164841.56, 6.2, 39.3),\n",
              " ('Action', 162959.91, 6.0, 30.9),\n",
              " ('Comedy', 122418.89, 5.9, 18.2),\n",
              " ('Drama', 119710.98, 6.4, 17.8),\n",
              " ('Thriller', 103250.43, 6.0, 24.5),\n",
              " ('Family', 83283.24, 6.0, 27.8),\n",
              " ('Fantasy', 81982.2, 6.1, 36.4),\n",
              " ('Science Fiction', 81564.24, 6.0, 36.5),\n",
              " ('Romance', 53642.14, 6.2, 16.0),\n",
              " ('Animation', 52812.17, 6.3, 38.8)]"
            ],
            "text/html": [
              "<table>\n",
              "    <thead>\n",
              "        <tr>\n",
              "            <th>genre_name</th>\n",
              "            <th>total_revenue_Per_M</th>\n",
              "            <th>avg_rating</th>\n",
              "            <th>avg_popularity</th>\n",
              "        </tr>\n",
              "    </thead>\n",
              "    <tbody>\n",
              "        <tr>\n",
              "            <td>Adventure</td>\n",
              "            <td>164841.56</td>\n",
              "            <td>6.2</td>\n",
              "            <td>39.3</td>\n",
              "        </tr>\n",
              "        <tr>\n",
              "            <td>Action</td>\n",
              "            <td>162959.91</td>\n",
              "            <td>6.0</td>\n",
              "            <td>30.9</td>\n",
              "        </tr>\n",
              "        <tr>\n",
              "            <td>Comedy</td>\n",
              "            <td>122418.89</td>\n",
              "            <td>5.9</td>\n",
              "            <td>18.2</td>\n",
              "        </tr>\n",
              "        <tr>\n",
              "            <td>Drama</td>\n",
              "            <td>119710.98</td>\n",
              "            <td>6.4</td>\n",
              "            <td>17.8</td>\n",
              "        </tr>\n",
              "        <tr>\n",
              "            <td>Thriller</td>\n",
              "            <td>103250.43</td>\n",
              "            <td>6.0</td>\n",
              "            <td>24.5</td>\n",
              "        </tr>\n",
              "        <tr>\n",
              "            <td>Family</td>\n",
              "            <td>83283.24</td>\n",
              "            <td>6.0</td>\n",
              "            <td>27.8</td>\n",
              "        </tr>\n",
              "        <tr>\n",
              "            <td>Fantasy</td>\n",
              "            <td>81982.2</td>\n",
              "            <td>6.1</td>\n",
              "            <td>36.4</td>\n",
              "        </tr>\n",
              "        <tr>\n",
              "            <td>Science Fiction</td>\n",
              "            <td>81564.24</td>\n",
              "            <td>6.0</td>\n",
              "            <td>36.5</td>\n",
              "        </tr>\n",
              "        <tr>\n",
              "            <td>Romance</td>\n",
              "            <td>53642.14</td>\n",
              "            <td>6.2</td>\n",
              "            <td>16.0</td>\n",
              "        </tr>\n",
              "        <tr>\n",
              "            <td>Animation</td>\n",
              "            <td>52812.17</td>\n",
              "            <td>6.3</td>\n",
              "            <td>38.8</td>\n",
              "        </tr>\n",
              "    </tbody>\n",
              "</table>"
            ]
          },
          "metadata": {},
          "execution_count": 15
        }
      ]
    },
    {
      "cell_type": "markdown",
      "source": [
        "# Production companies"
      ],
      "metadata": {
        "id": "BpQVyw5Hzidm"
      }
    },
    {
      "cell_type": "code",
      "source": [
        "# Investigating the data\n",
        "%%sql\n",
        "select *\n",
        "from productionCompanies\n",
        "limit 5;"
      ],
      "metadata": {
        "colab": {
          "base_uri": "https://localhost:8080/",
          "height": 183
        },
        "id": "PVTkxKCszsAK",
        "outputId": "290f90a4-662d-40f8-b4ca-06c75a8fc6e3"
      },
      "execution_count": null,
      "outputs": [
        {
          "output_type": "stream",
          "name": "stdout",
          "text": [
            " * sqlite:///TMDB.db\n",
            "Done.\n"
          ]
        },
        {
          "output_type": "execute_result",
          "data": {
            "text/plain": [
              "[(1, 'Lucasfilm'),\n",
              " (2, 'Walt Disney Pictures'),\n",
              " (3, 'Pixar Animation Studios'),\n",
              " (4, 'Paramount Pictures'),\n",
              " (5, 'Columbia Pictures')]"
            ],
            "text/html": [
              "<table>\n",
              "    <thead>\n",
              "        <tr>\n",
              "            <th>production_company_id</th>\n",
              "            <th>production_company_name</th>\n",
              "        </tr>\n",
              "    </thead>\n",
              "    <tbody>\n",
              "        <tr>\n",
              "            <td>1</td>\n",
              "            <td>Lucasfilm</td>\n",
              "        </tr>\n",
              "        <tr>\n",
              "            <td>2</td>\n",
              "            <td>Walt Disney Pictures</td>\n",
              "        </tr>\n",
              "        <tr>\n",
              "            <td>3</td>\n",
              "            <td>Pixar Animation Studios</td>\n",
              "        </tr>\n",
              "        <tr>\n",
              "            <td>4</td>\n",
              "            <td>Paramount Pictures</td>\n",
              "        </tr>\n",
              "        <tr>\n",
              "            <td>5</td>\n",
              "            <td>Columbia Pictures</td>\n",
              "        </tr>\n",
              "    </tbody>\n",
              "</table>"
            ]
          },
          "metadata": {},
          "execution_count": 136
        }
      ]
    },
    {
      "cell_type": "code",
      "source": [
        "# Showing top companies with the highest revenue\n",
        "%%sql\n",
        "select production_company_name, ROUND(sum(revenue/1000000),2) as total_revenue\n",
        "from movies M,(select production_company_name,movie_id\n",
        "from productionCompanies PC , productionCompanyMap PCM\n",
        "where PC.production_company_id = PCM.production_company_id) as PCS\n",
        "where M.movie_id = PCS.movie_id\n",
        "group by production_company_name\n",
        "order by revenue desc\n",
        "limit 10;"
      ],
      "metadata": {
        "colab": {
          "base_uri": "https://localhost:8080/",
          "height": 290
        },
        "id": "jgDDXRik0g5i",
        "outputId": "3bf59938-a275-4794-826b-676eba7693a0"
      },
      "execution_count": null,
      "outputs": [
        {
          "output_type": "stream",
          "name": "stdout",
          "text": [
            " * sqlite:///TMDB.db\n",
            "Done.\n"
          ]
        },
        {
          "output_type": "execute_result",
          "data": {
            "text/plain": [
              "[('QuTbec Production Services Tax Credit', 1506.25),\n",
              " ('Media Rights Capital (MRC)', 1723.27),\n",
              " ('Colorado Office of Film, Television & Media', 1506.25),\n",
              " ('Abu Dhabi Film Commission', 1506.25),\n",
              " ('Prime Focus', 1405.4),\n",
              " ('Vita-Ray Dutch Productions (III)', 1153.3),\n",
              " ('Deluxe Digital Studios', 1153.3),\n",
              " ('Indochina Productions', 1531.35),\n",
              " ('Ian Bryce Productions', 1091.41),\n",
              " ('China Movie Channel', 1773.74)]"
            ],
            "text/html": [
              "<table>\n",
              "    <thead>\n",
              "        <tr>\n",
              "            <th>production_company_name</th>\n",
              "            <th>total_revenue</th>\n",
              "        </tr>\n",
              "    </thead>\n",
              "    <tbody>\n",
              "        <tr>\n",
              "            <td>QuTbec Production Services Tax Credit</td>\n",
              "            <td>1506.25</td>\n",
              "        </tr>\n",
              "        <tr>\n",
              "            <td>Media Rights Capital (MRC)</td>\n",
              "            <td>1723.27</td>\n",
              "        </tr>\n",
              "        <tr>\n",
              "            <td>Colorado Office of Film, Television &amp; Media</td>\n",
              "            <td>1506.25</td>\n",
              "        </tr>\n",
              "        <tr>\n",
              "            <td>Abu Dhabi Film Commission</td>\n",
              "            <td>1506.25</td>\n",
              "        </tr>\n",
              "        <tr>\n",
              "            <td>Prime Focus</td>\n",
              "            <td>1405.4</td>\n",
              "        </tr>\n",
              "        <tr>\n",
              "            <td>Vita-Ray Dutch Productions (III)</td>\n",
              "            <td>1153.3</td>\n",
              "        </tr>\n",
              "        <tr>\n",
              "            <td>Deluxe Digital Studios</td>\n",
              "            <td>1153.3</td>\n",
              "        </tr>\n",
              "        <tr>\n",
              "            <td>Indochina Productions</td>\n",
              "            <td>1531.35</td>\n",
              "        </tr>\n",
              "        <tr>\n",
              "            <td>Ian Bryce Productions</td>\n",
              "            <td>1091.41</td>\n",
              "        </tr>\n",
              "        <tr>\n",
              "            <td>China Movie Channel</td>\n",
              "            <td>1773.74</td>\n",
              "        </tr>\n",
              "    </tbody>\n",
              "</table>"
            ]
          },
          "metadata": {},
          "execution_count": 13
        }
      ]
    },
    {
      "cell_type": "code",
      "source": [
        "%%sql\n",
        "select *\n",
        "from movies M,(select production_company_name,movie_id\n",
        "from productionCompanies PC , productionCompanyMap PCM\n",
        "where PC.production_company_id = PCM.production_company_id) as PCS\n",
        "where M.movie_id = PCS.movie_id and production_company_name = \"QuTbec Production Services Tax Credit\"\n",
        "group by production_company_name\n"
      ],
      "metadata": {
        "colab": {
          "base_uri": "https://localhost:8080/",
          "height": 309
        },
        "id": "GDzM6h_XC9Aw",
        "outputId": "3e42342b-8627-445c-848a-842cf7659891"
      },
      "execution_count": 13,
      "outputs": [
        {
          "output_type": "stream",
          "name": "stdout",
          "text": [
            " * sqlite:///TMDB.db\n",
            "Done.\n"
          ]
        },
        {
          "output_type": "execute_result",
          "data": {
            "text/plain": [
              "[(168259, 'Furious 7', '2015-04-01 00:00:00.000000', 190000000, 'http://www.furious7.com/', 'en', 'Furious 7', 'Deckard Shaw seeks revenge against Dominic Toretto and his family for his comatose brother.', 102.322217, 1506249360.0, 137.0, 'Released', 'Vengeance Hits Home', 7.3, 4176, 'QuTbec Production Services Tax Credit', 168259)]"
            ],
            "text/html": [
              "<table>\n",
              "    <thead>\n",
              "        <tr>\n",
              "            <th>movie_id</th>\n",
              "            <th>title</th>\n",
              "            <th>release_date</th>\n",
              "            <th>budget</th>\n",
              "            <th>homepage</th>\n",
              "            <th>original_language</th>\n",
              "            <th>original_title</th>\n",
              "            <th>overview</th>\n",
              "            <th>popularity</th>\n",
              "            <th>revenue</th>\n",
              "            <th>runtime</th>\n",
              "            <th>release_status</th>\n",
              "            <th>tagline</th>\n",
              "            <th>vote_average</th>\n",
              "            <th>vote_count</th>\n",
              "            <th>production_company_name</th>\n",
              "            <th>movie_id_1</th>\n",
              "        </tr>\n",
              "    </thead>\n",
              "    <tbody>\n",
              "        <tr>\n",
              "            <td>168259</td>\n",
              "            <td>Furious 7</td>\n",
              "            <td>2015-04-01 00:00:00.000000</td>\n",
              "            <td>190000000</td>\n",
              "            <td>http://www.furious7.com/</td>\n",
              "            <td>en</td>\n",
              "            <td>Furious 7</td>\n",
              "            <td>Deckard Shaw seeks revenge against Dominic Toretto and his family for his comatose brother.</td>\n",
              "            <td>102.322217</td>\n",
              "            <td>1506249360.0</td>\n",
              "            <td>137.0</td>\n",
              "            <td>Released</td>\n",
              "            <td>Vengeance Hits Home</td>\n",
              "            <td>7.3</td>\n",
              "            <td>4176</td>\n",
              "            <td>QuTbec Production Services Tax Credit</td>\n",
              "            <td>168259</td>\n",
              "        </tr>\n",
              "    </tbody>\n",
              "</table>"
            ]
          },
          "metadata": {},
          "execution_count": 13
        }
      ]
    },
    {
      "cell_type": "code",
      "source": [
        "# companies that invest more in the industry\n",
        "%%sql\n",
        "select production_company_name, count(*) as N_per_company\n",
        "from movies M,(select production_company_name,movie_id\n",
        "from productionCompanies PC , productionCompanyMap PCM\n",
        "where PC.production_company_id = PCM.production_company_id) as PCS\n",
        "where M.movie_id = PCS.movie_id\n",
        "group by production_company_name\n",
        "order by N_per_company  desc\n",
        "limit 10;"
      ],
      "metadata": {
        "colab": {
          "base_uri": "https://localhost:8080/",
          "height": 290
        },
        "id": "ktCxsv0z_GQc",
        "outputId": "736ebb86-5d12-408a-8a7a-22d9d4b15606"
      },
      "execution_count": null,
      "outputs": [
        {
          "output_type": "stream",
          "name": "stdout",
          "text": [
            " * sqlite:///TMDB.db\n",
            "Done.\n"
          ]
        },
        {
          "output_type": "execute_result",
          "data": {
            "text/plain": [
              "[('Warner Bros.', 319),\n",
              " ('Universal Pictures', 311),\n",
              " ('Paramount Pictures', 285),\n",
              " ('Twentieth Century Fox Film Corporation', 222),\n",
              " ('Columbia Pictures', 201),\n",
              " ('New Line Cinema', 165),\n",
              " ('Metro-Goldwyn-Mayer (MGM)', 122),\n",
              " ('Touchstone Pictures', 118),\n",
              " ('Walt Disney Pictures', 114),\n",
              " ('Relativity Media', 102)]"
            ],
            "text/html": [
              "<table>\n",
              "    <thead>\n",
              "        <tr>\n",
              "            <th>production_company_name</th>\n",
              "            <th>N_per_company</th>\n",
              "        </tr>\n",
              "    </thead>\n",
              "    <tbody>\n",
              "        <tr>\n",
              "            <td>Warner Bros.</td>\n",
              "            <td>319</td>\n",
              "        </tr>\n",
              "        <tr>\n",
              "            <td>Universal Pictures</td>\n",
              "            <td>311</td>\n",
              "        </tr>\n",
              "        <tr>\n",
              "            <td>Paramount Pictures</td>\n",
              "            <td>285</td>\n",
              "        </tr>\n",
              "        <tr>\n",
              "            <td>Twentieth Century Fox Film Corporation</td>\n",
              "            <td>222</td>\n",
              "        </tr>\n",
              "        <tr>\n",
              "            <td>Columbia Pictures</td>\n",
              "            <td>201</td>\n",
              "        </tr>\n",
              "        <tr>\n",
              "            <td>New Line Cinema</td>\n",
              "            <td>165</td>\n",
              "        </tr>\n",
              "        <tr>\n",
              "            <td>Metro-Goldwyn-Mayer (MGM)</td>\n",
              "            <td>122</td>\n",
              "        </tr>\n",
              "        <tr>\n",
              "            <td>Touchstone Pictures</td>\n",
              "            <td>118</td>\n",
              "        </tr>\n",
              "        <tr>\n",
              "            <td>Walt Disney Pictures</td>\n",
              "            <td>114</td>\n",
              "        </tr>\n",
              "        <tr>\n",
              "            <td>Relativity Media</td>\n",
              "            <td>102</td>\n",
              "        </tr>\n",
              "    </tbody>\n",
              "</table>"
            ]
          },
          "metadata": {},
          "execution_count": 9
        }
      ]
    },
    {
      "cell_type": "markdown",
      "metadata": {
        "id": "fEwLwzDLv9If"
      },
      "source": [
        "### Question 14\n",
        "# Visualization with Python\n",
        "\n",
        "You can choose **any table** from the database and create visualizations using Python libraries like **Matplotlib** or **Seaborn**. The goal is to explore and understand the data through visual analysis.\n",
        "\n",
        "For example, you could create a **bar chart** to show the number of movies in each genre or a **scatter plot** to compare movie **budget vs. revenue**.\n",
        "\n",
        "You can also **combine data from multiple tables** (using SQL joins) to create more complex visualizations. For instance, you might join the **Movies** table with the **Genres** table to show which genres have the highest-rated movies.\n",
        "\n",
        "\n",
        "\n",
        "### Example Ideas:\n",
        "- **Genres**: Visualize the most popular genres by the number of movies.\n",
        "- **Budget vs Revenue**: Analyze the relationship between movie budget and revenue.\n",
        "- **Languages**: Show the distribution of movies by language using a pie chart.\n",
        "- **Movie Trends**: Visualize how the number of movie releases has changed over the years.\n",
        "\n",
        "\n"
      ]
    },
    {
      "cell_type": "code",
      "execution_count": null,
      "metadata": {
        "id": "2p7550USv9Ig"
      },
      "outputs": [],
      "source": []
    },
    {
      "cell_type": "markdown",
      "source": [],
      "metadata": {
        "id": "UudNIf9czgaS"
      }
    }
  ],
  "metadata": {
    "colab": {
      "provenance": []
    },
    "kernelspec": {
      "display_name": "Python 3",
      "language": "python",
      "name": "python3"
    },
    "language_info": {
      "codemirror_mode": {
        "name": "ipython",
        "version": 3
      },
      "file_extension": ".py",
      "mimetype": "text/x-python",
      "name": "python",
      "nbconvert_exporter": "python",
      "pygments_lexer": "ipython3",
      "version": "3.8.5"
    }
  },
  "nbformat": 4,
  "nbformat_minor": 0
}